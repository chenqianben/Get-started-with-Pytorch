{
 "cells": [
  {
   "cell_type": "code",
   "execution_count": 1,
   "metadata": {},
   "outputs": [],
   "source": [
    "import torch\n",
    "import torch.nn as nn\n",
    "import torch.nn.functional as F\n",
    "import torch.optim as optim            #提供optimizer \n",
    "\n",
    "import torchvision\n",
    "import torchvision.transforms as transforms\n",
    "\n",
    "import numpy as np\n",
    "import matplotlib.pyplot as plt\n",
    "import pandas as pd\n",
    "\n",
    "torch.set_printoptions(linewidth=120)            #display options for output"
   ]
  },
  {
   "cell_type": "code",
   "execution_count": 2,
   "metadata": {},
   "outputs": [],
   "source": [
    "class Network(nn.Module):  #line 1\n",
    "    def __init__(self):\n",
    "        super(Network, self).__init__()  #line 3       #继承了nn.Module的__init__()\n",
    "    #共有五个layers作为attributes\n",
    "        #下面是两个convolutional layers,图片的输入是1*28*28\n",
    "        self.conv1 = nn.Conv2d(in_channels=1, out_channels=6, kernel_size=5)   #第一个layer的in-channels取决于数据，fashionMNIST是灰度的，dim为1\n",
    "        self.conv2 = nn.Conv2d(in_channels=6, out_channels=12, kernel_size=5)  #中间每一个layer的输出都是下一个layer的输入\n",
    "        \n",
    "        #下面是三个linear layers，其中最后一个linear layer是output。linear layer 又称为fully connected(fc) layer/dense layer\n",
    "        self.fc1 = nn.Linear(in_features=12 * 4 * 4, out_features=120)\n",
    "        self.fc2 = nn.Linear(in_features=120, out_features=60)\n",
    "        self.out = nn.Linear(in_features=60, out_features=10)    #最后一个layer的out_features取决于数据，fashionMNIST最后有十个输出\n",
    "        \n",
    "    def forward(self, t):                    #一直在对一个输入的数据t做操作\n",
    "        # (1) input layer\n",
    "        t = t                                 \n",
    "        # (2) hidden conv layer                          \n",
    "        t = F.max_pool2d(F.relu(self.conv1(t)), kernel_size=2, stride=2)   \n",
    "        # (3) hidden conv layer\n",
    "        t = F.max_pool2d(F.relu(self.conv2(t)), kernel_size=2, stride=2)\n",
    "        # (4) hidden linear layer\n",
    "        t = F.relu(self.fc1(t.reshape(-1, 12 * 4 * 4)))\n",
    "        # (5) hidden linear layer\n",
    "        t = F.relu(self.fc2(t))\n",
    "        # (6) output layer\n",
    "        t = self.out(t)\n",
    "        #t = F.softmax(t, dim=1)\n",
    "        return t"
   ]
  },
  {
   "cell_type": "code",
   "execution_count": 3,
   "metadata": {},
   "outputs": [
    {
     "name": "stdout",
     "output_type": "stream",
     "text": [
      "Dataset FashionMNIST\n",
      "    Number of datapoints: 60000\n",
      "    Split: train\n",
      "    Root Location: ./data/FashionMNIST\n",
      "    Transforms (if any): Compose(\n",
      "                             ToTensor()\n",
      "                         )\n",
      "    Target Transforms (if any): None\n"
     ]
    }
   ],
   "source": [
    "train_set = torchvision.datasets.FashionMNIST(\n",
    "    root='./data/FashionMNIST'                      #1/ 从这里开始extract，其中这一行是希望data储存到哪里\n",
    "    ,train=True                                              #表示data是训练集\n",
    "    ,download=True                                           #表示要下载数据，如果数据\n",
    "    ,transform=transforms.Compose([                 #2/ transform\n",
    "        transforms.ToTensor()                                #表示要将数据变成tensor\n",
    "    ])\n",
    ")\n",
    "\n",
    "BATCH_SIZE=10000\n",
    "\n",
    "train_loader = torch.utils.data.DataLoader(  #3/ load，load给我们access to data，也给我们querying abilities，如选定batch_size和shuffle\n",
    "    train_set                                                #表示提取的数据集是train_set\n",
    "    ,batch_size=BATCH_SIZE                                        #表示批量大小为10,默认为0\n",
    "    ,shuffle=True                                            #表示打乱数据顺序\n",
    ")\n",
    "\n",
    "print(train_set)"
   ]
  },
  {
   "cell_type": "code",
   "execution_count": 4,
   "metadata": {},
   "outputs": [],
   "source": [
    "def pred_rate(preds,labels):\n",
    "    return preds.eq(labels).sum().item()/labels.shape[0]"
   ]
  },
  {
   "cell_type": "code",
   "execution_count": 5,
   "metadata": {},
   "outputs": [],
   "source": [
    "#读取之前训练了一部分的模型，或许还可以更完善\n",
    "network=torch.load('FashionMNIST.pkl')"
   ]
  },
  {
   "cell_type": "code",
   "execution_count": 6,
   "metadata": {},
   "outputs": [
    {
     "name": "stdout",
     "output_type": "stream",
     "text": [
      "Epoch:  0 | Step:  0 | loss:  0.3868938088417053 | prection rate:  0.8652\n",
      "Epoch:  0 | Step:  1 | loss:  0.45800071954727173 | prection rate:  0.8278\n",
      "Epoch:  0 | Step:  2 | loss:  0.41075757145881653 | prection rate:  0.8466\n",
      "Epoch:  0 | Step:  3 | loss:  0.3970241844654083 | prection rate:  0.8552\n",
      "Epoch:  0 | Step:  4 | loss:  0.38179293274879456 | prection rate:  0.8648\n",
      "Epoch:  0 | Step:  5 | loss:  0.4112284779548645 | prection rate:  0.8483\n"
     ]
    },
    {
     "name": "stderr",
     "output_type": "stream",
     "text": [
      "c:\\users\\chenq\\anaconda3\\envs\\py37\\lib\\site-packages\\torch\\serialization.py:256: UserWarning: Couldn't retrieve source code for container of type Network. It won't be checked for correctness upon loading.\n",
      "  \"type \" + obj.__name__ + \". It won't be checked \"\n"
     ]
    }
   ],
   "source": [
    "#network模型用GPU还是CPU训练,这里由于之前存入的network是CPU训练并保存的，所以这里用GPU会出问题\n",
    "device=torch.device(\"cuda:0\" if torch.cuda.is_available() else \"cpu\")\n",
    "\n",
    "#多个epoch训练：\n",
    "optimizer=optim.Adam(network.parameters(),lr=0.001) #需要将network的参数(包括weight)传入才能构建optimizer,并且learning rate=0.001\n",
    "\n",
    "for epoch in range(1):\n",
    "    for step,(batch_x,batch_y) in enumerate(train_loader):\n",
    "        #batch_x,batch_y=batch_x.to(device),batch_y.to(device)     #如果可以，tensor放到gpu上\n",
    "        out=network(batch_x)\n",
    "        loss=F.cross_entropy(out,batch_y)            #F.cross_entropy函数计算loss\n",
    "        \n",
    "        optimizer.zero_grad()\n",
    "        loss.backward()                         #使用backpropogation算法计算grad\n",
    "        optimizer.step()    #表示将要用该optimizer，通过loss function的最小化来更新weights\n",
    "        \n",
    "        preds=out.argmax(dim=1)\n",
    "        print('Epoch: ', epoch, '| Step: ', step,'| loss: ',loss.item(), '| prection rate: ',pred_rate(preds,batch_y))\n",
    "        \n",
    "torch.save(network,'FashionMNIST.pkl')"
   ]
  },
  {
   "cell_type": "code",
   "execution_count": 7,
   "metadata": {},
   "outputs": [
    {
     "name": "stdout",
     "output_type": "stream",
     "text": [
      "Dataset FashionMNIST\n",
      "    Number of datapoints: 10000\n",
      "    Split: test\n",
      "    Root Location: ./data/FashionMNIST\n",
      "    Transforms (if any): Compose(\n",
      "                             ToTensor()\n",
      "                         )\n",
      "    Target Transforms (if any): None\n",
      "By using the test set,the prediction rate is:  0.8478\n"
     ]
    }
   ],
   "source": [
    "#用模型预测数据\n",
    "test_set = torchvision.datasets.FashionMNIST(\n",
    "    root='./data/FashionMNIST',\n",
    "    train=False,\n",
    "    download=True,\n",
    "    transform=transforms.Compose([\n",
    "        transforms.ToTensor()\n",
    "    ])\n",
    ")\n",
    "print(test_set)\n",
    "\n",
    "test_loader=torch.utils.data.DataLoader(test_set)\n",
    "\n",
    "sum_correct=0\n",
    "for test_x,test_y in test_loader:               #test_loader里面要一个一个数据取，用for\n",
    "    test_x.test_y=test_x.to(device),test_y.to(device)\n",
    "    out=network(test_x)\n",
    "    pred=out.argmax(dim=1)\n",
    "    sum_correct+=(pred.data.numpy().item()==test_y.data.numpy().item())\n",
    "my_rate=sum_correct/len(test_set)\n",
    "print('By using the test set,the prediction rate is: ',my_rate)"
   ]
  },
  {
   "cell_type": "code",
   "execution_count": 8,
   "metadata": {},
   "outputs": [
    {
     "name": "stdout",
     "output_type": "stream",
     "text": [
      "As far as I can see, these photos are respectively: \n",
      "       pred_label  true_label    pred_name    true_name\n",
      "Index                                                  \n",
      "0               5           5       Sandal       Sandal\n",
      "1               3           3        Dress        Dress\n",
      "2               7           7      Sneaker      Sneaker\n",
      "3               2           6     Pullover        Shirt\n",
      "4               6           2        Shirt     Pullover\n",
      "5               9           9   Ankle boot   Ankle boot\n",
      "6               6           2        Shirt     Pullover\n",
      "7               9           9   Ankle boot   Ankle boot\n",
      "8               8           4          Bag         Coat\n",
      "9               8           8          Bag          Bag\n",
      "10              4           2         Coat     Pullover\n",
      "11              0           6  T-shirt/top        Shirt\n",
      "12              5           5       Sandal       Sandal\n",
      "13              5           5       Sandal       Sandal\n",
      "14              0           0  T-shirt/top  T-shirt/top\n",
      "15              5           5       Sandal       Sandal\n",
      "16              2           2     Pullover     Pullover\n",
      "17              9           9   Ankle boot   Ankle boot\n",
      "18              4           4         Coat         Coat\n",
      "19              5           5       Sandal       Sandal\n",
      "\n",
      "My prediction rate is:  0.7 , bravo!!\n"
     ]
    },
    {
     "data": {
      "image/png": "[encoded data removed]",
      "text/plain": [
       "<Figure size 1152x720 with 1 Axes>"
      ]
     },
     "metadata": {
      "needs_background": "light"
     },
     "output_type": "display_data"
    }
   ],
   "source": [
    "#用模型预测数据,抽样几个\n",
    "test_loader = torch.utils.data.DataLoader(  #3/ load，load给我们access to data，也给我们querying abilities，如选定batch_size和shuffle\n",
    "    train_set                                                #表示提取的数据集是train_set\n",
    "    ,batch_size=20                                           #表示批量大小为10,默认为0\n",
    "    ,shuffle=True                                            #表示打乱数据顺序\n",
    ")\n",
    "\n",
    "batch=next(iter(test_loader))\n",
    "images,labels=batch\n",
    "grid=torchvision.utils.make_grid(images,nrow=10)\n",
    "plt.figure(figsize=(16,10))\n",
    "plt.imshow(np.transpose(grid,(1,2,0)))       #对grid作转置，之前是3*32*302的，这种高级转置方法变成了32*302*3，把channel那一维度放到最后\n",
    "\n",
    "\n",
    "out=network(images)\n",
    "preds=out.argmax(dim=1)\n",
    "my_rate=pred_rate(preds,labels)\n",
    "print(\"As far as I can see, these photos are respectively: \")\n",
    "\n",
    "fashion_dict={0:'T-shirt/top',1:'Trouser',2:'Pullover',3:'Dress',4:'Coat',5:'Sandal',6:'Shirt',7:'Sneaker',8:'Bag',9:'Ankle boot'}\n",
    "#制作dataframe\n",
    "pred_names=[]\n",
    "true_names=[]\n",
    "[pred_names.append(fashion_dict[preds.data.numpy()[i]]) for i in range(preds.data.numpy().shape[0])]\n",
    "[true_names.append(fashion_dict[labels.data.numpy()[i]]) for i in range(labels.data.numpy().shape[0])]\n",
    "\n",
    "pred_labels=pd.Series(preds.data.numpy())\n",
    "true_labels=pd.Series(labels.data.numpy())\n",
    "pred_names=pd.Series(pred_names)\n",
    "true_names=pd.Series(true_names)\n",
    "\n",
    "result={'pred_label':pred_labels,'true_label':true_labels,'pred_name':pred_names,'true_name':true_names}\n",
    "result=pd.DataFrame(result)\n",
    "#result.set_index('pred_label', inplace=True) 可以把index的数字去掉，把pred_label当作index\n",
    "result.index.name='Index'\n",
    "print(result)\n",
    "print()\n",
    "print(\"My prediction rate is: \",pred_rate(preds,labels),\", bravo!!\")"
   ]
  },
  {
   "cell_type": "code",
   "execution_count": null,
   "metadata": {},
   "outputs": [],
   "source": []
  }
 ],
 "metadata": {
  "kernelspec": {
   "display_name": "Python 3",
   "language": "python",
   "name": "python3"
  },
  "language_info": {
   "codemirror_mode": {
    "name": "ipython",
    "version": 3
   },
   "file_extension": ".py",
   "mimetype": "text/x-python",
   "name": "python",
   "nbconvert_exporter": "python",
   "pygments_lexer": "ipython3",
   "version": "3.7.3"
  }
 },
 "nbformat": 4,
 "nbformat_minor": 2
}
