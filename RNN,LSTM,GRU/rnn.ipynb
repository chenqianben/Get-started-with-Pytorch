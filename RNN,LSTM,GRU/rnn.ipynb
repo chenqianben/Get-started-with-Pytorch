{
 "cells": [
  {
   "cell_type": "code",
   "execution_count": 60,
   "metadata": {},
   "outputs": [
    {
     "name": "stdout",
     "output_type": "stream",
     "text": [
      "(120, 1) (144, 1)\n"
     ]
    }
   ],
   "source": [
    "import torch\n",
    "from torch import nn,optim\n",
    "from torch.nn import init            #包含了很多初始化方法\n",
    "\n",
    "#引入初始化相关的内容\n",
    "from  seqInit import toTs\n",
    "from  seqInit import input_size\n",
    "from seqInit import train,real         #train dim为120，real（验证集）dim为144，只拿了前120个数据训练，看能不能预测后面24个数据\n",
    "\n",
    "import numpy as np\n",
    "import matplotlib.pyplot as plt\n",
    "\n",
    "print(train.shape,real.shape)"
   ]
  },
  {
   "cell_type": "code",
   "execution_count": 68,
   "metadata": {},
   "outputs": [],
   "source": [
    "#定义RNN 模型\n",
    "class rnnModel(nn.Module):\n",
    "    def __init__(self,in_dim,hidden_dim,out_dim,layer_num):\n",
    "        super().__init__()\n",
    "        self.rnn=nn.RNN(in_dim,hidden_dim,layer_num,batch_first=True)\n",
    "        self.fc=nn.Linear(hidden_dim,out_dim)\n",
    "        optim_range=np.sqrt(1.0/hidden_dim)\n",
    "        self.weightInit(optim_range)\n",
    "\n",
    "    def forward(self, x):  # x dim: (batch,time_step,input_size)\n",
    "        out,_=self.rnn(x)\n",
    "        out=out[:,12:,:]       # 由于这里，最终把input的(1，119,1)变成了输出的（1，107,1），由第1~ N的数预训练，训练目的是逼近第13~ N的数\n",
    "        out=self.fc(out)\n",
    "        return  out\n",
    "\n",
    "    def weightInit(self,gain=1):\n",
    "        #使用初始化模型参数\n",
    "        for name ,param in self.named_parameters():        # self.named_parameters()是nn.Module的参数，给出了网络的名字和参数\n",
    "            if 'rnn.weight' in name:                       \n",
    "                init.orthogonal(param,gain)                # 正交初始化，使得tensor是正交的"
   ]
  },
  {
   "cell_type": "code",
   "execution_count": 73,
   "metadata": {},
   "outputs": [
    {
     "name": "stderr",
     "output_type": "stream",
     "text": [
      "D:\\anaconda\\envs\\py37\\lib\\site-packages\\ipykernel_launcher.py:20: UserWarning: nn.init.orthogonal is now deprecated in favor of nn.init.orthogonal_.\n"
     ]
    },
    {
     "name": "stdout",
     "output_type": "stream",
     "text": [
      "Epoch[200/2000], loss = 0.00338\n",
      "Epoch[400/2000], loss = 0.00238\n",
      "Epoch[600/2000], loss = 0.00221\n",
      "Epoch[800/2000], loss = 0.00242\n",
      "Epoch[1000/2000], loss = 0.00194\n",
      "Epoch[1200/2000], loss = 0.00188\n",
      "Epoch[1400/2000], loss = 0.00178\n",
      "Epoch[1600/2000], loss = 0.00150\n",
      "Epoch[1800/2000], loss = 0.00119\n",
      "Epoch[2000/2000], loss = 0.00114\n"
     ]
    }
   ],
   "source": [
    "#输入维度1，输出维度1 ，隐藏层10，定义rnn层数2\n",
    "rnn=rnnModel(1,10,1,2)\n",
    "\n",
    "#确定损失函数和优化函数\n",
    "criterion=nn.MSELoss()\n",
    "optimizer=optim.Adam(rnn.parameters(),lr=1e-2)\n",
    "\n",
    "# 处理输入\n",
    "def create_dataset(dataset) :\n",
    "    data = dataset.reshape(1, -1, 1)\n",
    "    return torch.from_numpy(data)\n",
    "\n",
    "trainX = create_dataset(train[:-1])   #train[:-1]是(119,1)，最后trainX是（1,119,1），由第1~119的数当trainX\n",
    "trainY = create_dataset(train[1:])[:,12:,:]  #train[1:]是(119,1)，最后trainY是（1,107,1），由第14~120的数当trainY，与trainX错位表示有滞后性\n",
    "\n",
    "\n",
    "# 训练RNN模型\n",
    "frq, sec = 2000, 200\n",
    "loss_set = []\n",
    "for e in range(1, frq + 1) :\n",
    "    inputs = trainX\n",
    "    target = trainY\n",
    "    # forward\n",
    "    output = rnn(inputs)\n",
    "    loss = criterion(output, target)\n",
    "    # update gradients\n",
    "    optimizer.zero_grad()\n",
    "    loss.backward()\n",
    "    optimizer.step()\n",
    "    # print training information\n",
    "    print_loss = loss.item()\n",
    "    loss_set.append((e, print_loss))\n",
    "    if e % sec == 0 :\n",
    "        print('Epoch[{}/{}], loss = {:.5f}'.format(e, frq, print_loss))"
   ]
  },
  {
   "cell_type": "code",
   "execution_count": 76,
   "metadata": {},
   "outputs": [
    {
     "name": "stdout",
     "output_type": "stream",
     "text": [
      "torch.Size([1, 143, 1]) (143,) (131,)\n"
     ]
    }
   ],
   "source": [
    "# 测试\n",
    "rnn = rnn.eval()\n",
    "px = real[:-1].reshape(1, -1, 1)            # dim （143,1,1），拿第1~143的数据来做预测输入，经过rnn之后变成了14~144的预测结果\n",
    "px = torch.from_numpy(px)\n",
    "ry = real[1:].reshape(-1)                   # dim  (144,),第2~144的真实结果\n",
    "py = rnn(px).data                           \n",
    "py = np.array(py).reshape(-1)               # dim （131,），会得到第14~144的预测结果\n",
    "print(px.shape,ry.shape,py.shape)"
   ]
  },
  {
   "cell_type": "code",
   "execution_count": 77,
   "metadata": {},
   "outputs": [
    {
     "data": {
      "text/plain": [
       "<matplotlib.legend.Legend at 0x1de75ed9e8>"
      ]
     },
     "execution_count": 77,
     "metadata": {},
     "output_type": "execute_result"
    },
    {
     "data": {
      "image/png": "[encoded data removed]",
      "text/plain": [
       "<Figure size 432x288 with 1 Axes>"
      ]
     },
     "metadata": {
      "needs_background": "light"
     },
     "output_type": "display_data"
    }
   ],
   "source": [
    "# 画出实际结果和预测的结果\n",
    "plt.plot(py[-24:], 'r', label='prediction')\n",
    "plt.plot(ry[-24:], 'b', label='real')\n",
    "plt.legend(loc='best')"
   ]
  },
  {
   "cell_type": "code",
   "execution_count": 18,
   "metadata": {},
   "outputs": [],
   "source": [
    "# 注意，发现其中有一个数据没有用来训练和预测，是因为：\n",
    "# 0,1...118是trainX，13,14....119是trainY，trainX经过rnn之后，数据变成了12,13...118，发现跟trainY错位了一位，这样才能训练未来的预测"
   ]
  }
 ],
 "metadata": {
  "kernelspec": {
   "display_name": "Python [conda env:py37] *",
   "language": "python",
   "name": "conda-env-py37-py"
  },
  "language_info": {
   "codemirror_mode": {
    "name": "ipython",
    "version": 3
   },
   "file_extension": ".py",
   "mimetype": "text/x-python",
   "name": "python",
   "nbconvert_exporter": "python",
   "pygments_lexer": "ipython3",
   "version": "3.6.7"
  }
 },
 "nbformat": 4,
 "nbformat_minor": 2
}
