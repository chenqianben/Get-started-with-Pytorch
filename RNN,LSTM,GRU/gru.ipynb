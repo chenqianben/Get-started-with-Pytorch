{
 "cells": [
  {
   "cell_type": "code",
   "execution_count": 21,
   "metadata": {},
   "outputs": [],
   "source": [
    "# 引入torch相关模块\n",
    "import torch\n",
    "from torch import nn, optim\n",
    "from torch.autograd import Variable\n",
    "from torch.nn import init\n",
    "\n",
    "# 引入初始化文件中的相关内容\n",
    "from seqInit import toTs\n",
    "from seqInit import input_size\n",
    "from seqInit import train, real\n",
    "\n",
    "# 引入画图工具\n",
    "import numpy as np\n",
    "import matplotlib.pyplot as plt"
   ]
  },
  {
   "cell_type": "code",
   "execution_count": 26,
   "metadata": {},
   "outputs": [],
   "source": [
    "# 定义GRU模型\n",
    "class gruModel(nn.Module):\n",
    "    def __init__(self, in_dim, hidden_dim, out_dim, hidden_layer):\n",
    "        super().__init__()\n",
    "        self.gru = nn.GRU(in_dim, hidden_dim, hidden_layer,batch_first=True)\n",
    "        self.fc = nn.Linear(hidden_dim, out_dim)\n",
    "\n",
    "    def forward(self, x):\n",
    "        out, _ = self.gru(x)\n",
    "        out = out[:,12:,:]\n",
    "        out = self.fc(out)\n",
    "        return out"
   ]
  },
  {
   "cell_type": "code",
   "execution_count": 35,
   "metadata": {},
   "outputs": [
    {
     "name": "stdout",
     "output_type": "stream",
     "text": [
      "torch.Size([1, 119, 1]) torch.Size([1, 107, 1])\n"
     ]
    }
   ],
   "source": [
    "# 输入维度为1，输出维度为1，隐藏层维数为5, 定义GRU层数为3\n",
    "gru = gruModel(1, 5, 1, 3)  #增大层数，相当于多了几个GRU重合，能避免单一GRU的不确定性，最后的曲线能平滑\n",
    "\n",
    "# 定义损失函数和优化函数\n",
    "criterion = nn.MSELoss()\n",
    "optimizer = optim.Adam(gru.parameters(), lr=1e-2)\n",
    "\n",
    "# 处理输入\n",
    "def create_dataset(dataset) :\n",
    "    data = dataset.reshape(1, -1, 1)\n",
    "    return torch.from_numpy(data)\n",
    "\n",
    "trainX = create_dataset(train[:-1])   #train[:-1]是(119,1)，最后trainX是（1,119,1），由第1~119的数当trainX\n",
    "trainY = create_dataset(train[1:])[:,12:,:]  #train[1:]是(119,1)，最后trainY是（1,107,1），由第14~120的数当trainY，与trainX错位表示有滞后性\n",
    "print(trainX.shape, trainY.shape)"
   ]
  },
  {
   "cell_type": "code",
   "execution_count": 36,
   "metadata": {},
   "outputs": [
    {
     "name": "stdout",
     "output_type": "stream",
     "text": [
      "Epoch[400/4000], Loss: 0.00202\n",
      "Epoch[800/4000], Loss: 0.00152\n",
      "Epoch[1200/4000], Loss: 0.00075\n",
      "Epoch[1600/4000], Loss: 0.00049\n",
      "Epoch[2000/4000], Loss: 0.00036\n",
      "Epoch[2400/4000], Loss: 0.00025\n",
      "Epoch[2800/4000], Loss: 0.00026\n",
      "Epoch[3200/4000], Loss: 0.00016\n",
      "Epoch[3600/4000], Loss: 0.00015\n",
      "Epoch[4000/4000], Loss: 0.00012\n"
     ]
    }
   ],
   "source": [
    "# 训练模型\n",
    "frq, sec = 4000, 400\n",
    "loss_set = []\n",
    "\n",
    "for e in range(1, frq + 1) :\n",
    "    inputs = trainX\n",
    "    target = trainY\n",
    "    #forward\n",
    "    output = gru(inputs)\n",
    "    loss = criterion(output, target)\n",
    "    # update paramters\n",
    "    optimizer.zero_grad()\n",
    "    loss.backward()\n",
    "    optimizer.step()\n",
    "    #print training information\n",
    "    print_loss = loss.item()\n",
    "    loss_set.append((e, print_loss))\n",
    "    if e % sec == 0 :\n",
    "        print('Epoch[{}/{}], Loss: {:.5f}'.format(e, frq, print_loss))"
   ]
  },
  {
   "cell_type": "code",
   "execution_count": 39,
   "metadata": {},
   "outputs": [
    {
     "name": "stdout",
     "output_type": "stream",
     "text": [
      "torch.Size([1, 143, 1]) (131,) (143,)\n"
     ]
    }
   ],
   "source": [
    "gru = gru.eval()\n",
    "\n",
    "# 预测结果并比较\n",
    "px = real[:-1].reshape(1, -1, 1)                  #\n",
    "px = torch.from_numpy(px)\n",
    "ry = real[1:].reshape(-1)\n",
    "py = gru(px).data\n",
    "py = np.array(py).reshape(-1)\n",
    "print(px.shape, py.shape, ry.shape)"
   ]
  },
  {
   "cell_type": "code",
   "execution_count": 40,
   "metadata": {},
   "outputs": [
    {
     "data": {
      "text/plain": [
       "<matplotlib.legend.Legend at 0xce900bab00>"
      ]
     },
     "execution_count": 40,
     "metadata": {},
     "output_type": "execute_result"
    },
    {
     "data": {
      "image/png": "[encoded data removed]",
      "text/plain": [
       "<Figure size 432x288 with 1 Axes>"
      ]
     },
     "metadata": {
      "needs_background": "light"
     },
     "output_type": "display_data"
    }
   ],
   "source": [
    "# 画出实际结果和预测的结果\n",
    "plt.plot(py[-24:], 'r', label='prediction')\n",
    "plt.plot(ry[-24:], 'b', label='real')\n",
    "plt.legend(loc='best')"
   ]
  },
  {
   "cell_type": "code",
   "execution_count": null,
   "metadata": {},
   "outputs": [],
   "source": []
  }
 ],
 "metadata": {
  "kernelspec": {
   "display_name": "Python [conda env:py37] *",
   "language": "python",
   "name": "conda-env-py37-py"
  },
  "language_info": {
   "codemirror_mode": {
    "name": "ipython",
    "version": 3
   },
   "file_extension": ".py",
   "mimetype": "text/x-python",
   "name": "python",
   "nbconvert_exporter": "python",
   "pygments_lexer": "ipython3",
   "version": "3.6.7"
  }
 },
 "nbformat": 4,
 "nbformat_minor": 2
}
