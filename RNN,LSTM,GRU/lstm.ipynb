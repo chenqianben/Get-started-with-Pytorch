{
 "cells": [
  {
   "cell_type": "code",
   "execution_count": 21,
   "metadata": {},
   "outputs": [],
   "source": [
    "import torch\n",
    "from torch import nn,optim\n",
    "from torch.autograd import Variable\n",
    "from  torch.nn import init\n",
    "import torch.nn.functional as F\n",
    "\n",
    "import numpy as np\n",
    "import matplotlib.pyplot as plt\n",
    "\n",
    "from seqInit import toTs\n",
    "from seqInit import input_size,train,real"
   ]
  },
  {
   "cell_type": "code",
   "execution_count": 49,
   "metadata": {},
   "outputs": [],
   "source": [
    "#定义LSTM 模型\n",
    "class lstmModel(nn.Module):\n",
    "    def __init__(self,in_dim,hidden_dim,out_dim,layer_num):\n",
    "        super().__init__()\n",
    "        self.lstm=nn.LSTM(in_dim,hidden_dim,layer_num,batch_first=True)\n",
    "        self.fc=nn.Linear(hidden_dim,out_dim)\n",
    "\n",
    "        self.weightInit=(np.sqrt(1.0/hidden_dim))\n",
    "\n",
    "    def forward(self, x):         # x dim : (batch,time_step,input_size)\n",
    "        out,_=self.lstm(x)\n",
    "        #b,s,h=out.size() #batch,time_step(seq), hidden\n",
    "        out=out[:,12:,:]\n",
    "        out=self.fc(out)\n",
    "        return out\n",
    "    \n",
    "    #初始化权重\n",
    "    def weightInit(self, gain=1):\n",
    "            # 使用初始化模型参数\n",
    "        for name, param in self.named_parameters():\n",
    "            if 'lstmLayer.weight' in name:\n",
    "                init.orthogonal(param, gain)"
   ]
  },
  {
   "cell_type": "code",
   "execution_count": 51,
   "metadata": {},
   "outputs": [
    {
     "name": "stdout",
     "output_type": "stream",
     "text": [
      "Epoch[350/3500], Loss: 0.00644\n",
      "Epoch[700/3500], Loss: 0.00234\n",
      "Epoch[1050/3500], Loss: 0.00165\n",
      "Epoch[1400/3500], Loss: 0.00069\n",
      "Epoch[1750/3500], Loss: 0.00058\n",
      "Epoch[2100/3500], Loss: 0.00055\n",
      "Epoch[2450/3500], Loss: 0.00056\n",
      "Epoch[2800/3500], Loss: 0.00051\n",
      "Epoch[3150/3500], Loss: 0.00046\n",
      "Epoch[3500/3500], Loss: 0.00043\n"
     ]
    }
   ],
   "source": [
    "# 输入维度为1，输出维度为1，隐藏层维数为5, 定义LSTM层数为2\n",
    "lstm = lstmModel(1, 5, 1, 2)\n",
    "\n",
    "# 定义损失函数和优化函数\n",
    "criterion = nn.MSELoss()\n",
    "optimizer = optim.Adam(lstm.parameters(), lr = 1e-2)\n",
    "\n",
    "# 处理输入\n",
    "def create_dataset(dataset) :\n",
    "    data = dataset.reshape(1, -1, 1)\n",
    "    return torch.from_numpy(data)\n",
    "\n",
    "trainX = create_dataset(train[:-1])   #train[:-1]是(119,1)，最后trainX是（1,119,1），由第1~119的数当trainX\n",
    "trainY = create_dataset(train[1:])[:,12:,:]  #train[1:]是(119,1)，最后trainY是（1,107,1），由第14~120的数当trainY，与trainX错位表示有滞后性\n",
    "\n",
    "# 训练模型\n",
    "frq, sec = 3500, 350\n",
    "loss_set = []\n",
    "\n",
    "for e in range(1, frq + 1) :\n",
    "    inputs = trainX\n",
    "    target = trainY\n",
    "    #forward\n",
    "    output = lstm(inputs)\n",
    "    loss = criterion(output, target)\n",
    "    # update paramters\n",
    "    optimizer.zero_grad()\n",
    "    loss.backward()\n",
    "    optimizer.step()\n",
    "    #print training information\n",
    "    print_loss = loss.item()\n",
    "    loss_set.append((e, print_loss))\n",
    "    if e % sec == 0 :\n",
    "        print('Epoch[{}/{}], Loss: {:.5f}'.format(e, frq, print_loss))"
   ]
  },
  {
   "cell_type": "code",
   "execution_count": 52,
   "metadata": {},
   "outputs": [
    {
     "name": "stdout",
     "output_type": "stream",
     "text": [
      "torch.Size([1, 143, 1]) (131,) (143,)\n"
     ]
    }
   ],
   "source": [
    "lstm = lstm.eval()\n",
    "# 预测结果并比较\n",
    "px = real[:-1].reshape(1, -1, 1)\n",
    "px = torch.from_numpy(px)\n",
    "ry = real[1:].reshape(-1)\n",
    "py = lstm(px).data\n",
    "py = np.array(py).reshape(-1)\n",
    "print(px.shape, py.shape, ry.shape)"
   ]
  },
  {
   "cell_type": "code",
   "execution_count": 53,
   "metadata": {},
   "outputs": [
    {
     "data": {
      "text/plain": [
       "<matplotlib.legend.Legend at 0x641547a128>"
      ]
     },
     "execution_count": 53,
     "metadata": {},
     "output_type": "execute_result"
    },
    {
     "data": {
      "image/png": "[encoded data removed]",
      "text/plain": [
       "<Figure size 432x288 with 1 Axes>"
      ]
     },
     "metadata": {
      "needs_background": "light"
     },
     "output_type": "display_data"
    }
   ],
   "source": [
    "# 画出实际结果和预测的结果\n",
    "plt.plot(py[-24:], 'r', label='prediction')\n",
    "plt.plot(ry[-24:], 'b', label='real')\n",
    "plt.legend(loc='best')"
   ]
  },
  {
   "cell_type": "code",
   "execution_count": null,
   "metadata": {},
   "outputs": [],
   "source": []
  }
 ],
 "metadata": {
  "kernelspec": {
   "display_name": "Python [conda env:py37] *",
   "language": "python",
   "name": "conda-env-py37-py"
  },
  "language_info": {
   "codemirror_mode": {
    "name": "ipython",
    "version": 3
   },
   "file_extension": ".py",
   "mimetype": "text/x-python",
   "name": "python",
   "nbconvert_exporter": "python",
   "pygments_lexer": "ipython3",
   "version": "3.6.7"
  }
 },
 "nbformat": 4,
 "nbformat_minor": 2
}
