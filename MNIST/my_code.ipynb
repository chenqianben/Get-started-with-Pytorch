{
 "cells": [
  {
   "cell_type": "code",
   "execution_count": 157,
   "metadata": {},
   "outputs": [],
   "source": [
    "import torch\n",
    "import torch.nn as nn\n",
    "import torch.utils.data as Data\n",
    "import torchvision      # 数据库模块\n",
    "\n",
    "import numpy as np\n",
    "import matplotlib.pyplot as plt\n",
    "\n",
    "#torch.manual_seed(1)    # reproducible"
   ]
  },
  {
   "cell_type": "code",
   "execution_count": 158,
   "metadata": {},
   "outputs": [],
   "source": [
    "#Hyper Parameters\n",
    "EPOCH = 1           # 训练整批数据多少次, 为了节约时间, 我们只训练一次\n",
    "BATCH_SIZE = 50\n",
    "LR = 0.001          # 学习率"
   ]
  },
  {
   "cell_type": "code",
   "execution_count": 159,
   "metadata": {},
   "outputs": [
    {
     "name": "stdout",
     "output_type": "stream",
     "text": [
      "torch.Size([60000, 28, 28])\n",
      "torch.Size([60000])\n"
     ]
    },
    {
     "data": {
      "image/png": "[encoded data removed]",
      "text/plain": [
       "<Figure size 432x288 with 1 Axes>"
      ]
     },
     "metadata": {
      "needs_background": "light"
     },
     "output_type": "display_data"
    }
   ],
   "source": [
    "# Mnist 手写数字\n",
    "train_data = torchvision.datasets.MNIST(             #这种加载形式有train_data.train_data和train_data.train_labels两个子函数\n",
    "    root='./data1/MNIST/',    # 保存或者提取位置\n",
    "    train=True,  # this is training data\n",
    "    download=True,\n",
    "    transform=torchvision.transforms.ToTensor(),\n",
    ")\n",
    "\n",
    "print(train_data.train_data.size())              #60000*28*28\n",
    "print(train_data.train_labels.shape)             #60000\n",
    "\n",
    "plt.imshow(train_data.train_data[0],cmap=\"gray\")\n",
    "plt.title(\"%d\" % train_data.train_labels[0])\n",
    "plt.show()"
   ]
  },
  {
   "cell_type": "code",
   "execution_count": 160,
   "metadata": {},
   "outputs": [],
   "source": [
    "train_loader = torch.utils.data.DataLoader(  \n",
    "    train_data                                               \n",
    "    ,batch_size=BATCH_SIZE                                       \n",
    "    ,shuffle=True                                            \n",
    ")"
   ]
  },
  {
   "cell_type": "code",
   "execution_count": 161,
   "metadata": {},
   "outputs": [
    {
     "name": "stdout",
     "output_type": "stream",
     "text": [
      "CNN(\n",
      "  (conv1): Sequential(\n",
      "    (0): Conv2d(1, 16, kernel_size=(5, 5), stride=(1, 1), padding=(2, 2))\n",
      "    (1): ReLU()\n",
      "    (2): MaxPool2d(kernel_size=2, stride=2, padding=0, dilation=1, ceil_mode=False)\n",
      "  )\n",
      "  (conv2): Sequential(\n",
      "    (0): Conv2d(16, 32, kernel_size=(5, 5), stride=(1, 1), padding=(2, 2))\n",
      "    (1): ReLU()\n",
      "    (2): MaxPool2d(kernel_size=2, stride=2, padding=0, dilation=1, ceil_mode=False)\n",
      "  )\n",
      "  (out): Linear(in_features=1568, out_features=10, bias=True)\n",
      ")\n"
     ]
    }
   ],
   "source": [
    "#注意，最关键的是注意搭建了几层layer，每层layer的参数是多少，为什么这么设置\n",
    "class CNN(nn.Module):\n",
    "    def __init__(self):\n",
    "        super(CNN, self).__init__()\n",
    "        self.conv1 = nn.Sequential(  # input shape (1, 28, 28)        \n",
    "            nn.Conv2d(\n",
    "                in_channels=1,      # input height\n",
    "                out_channels=16,    # n_filters\n",
    "                kernel_size=5,      # filter size\n",
    "                stride=1,           # filter movement/step\n",
    "                padding=2,      # 如果想要 con2d 出来的图片长宽没有变化, padding=(kernel_size-1)/2 当 stride=1 !!\n",
    "            ),      # output shape (16, 28, 28)\n",
    "            nn.ReLU(),    # activation\n",
    "            nn.MaxPool2d(kernel_size=2),    # 在 2x2 空间里向下采样, output shape (16, 14, 14)\n",
    "        )\n",
    "        self.conv2 = nn.Sequential(  # input shape (16, 14, 14)\n",
    "            nn.Conv2d(16, 32, 5, 1, 2),  # output shape (32, 14, 14)\n",
    "            nn.ReLU(),  # activation\n",
    "            nn.MaxPool2d(2),  # output shape (32, 7, 7)\n",
    "        )\n",
    "        self.out = nn.Linear(32 * 7 * 7, 10)   # fully connected layer, output 10 classes\n",
    "\n",
    "    def forward(self, x):\n",
    "        x = self.conv1(x)\n",
    "        x = self.conv2(x)\n",
    "        x = x.view(x.size(0), -1)   # 展平多维的卷积图成 (batch_size, 32 * 7 * 7)\n",
    "        output = self.out(x)\n",
    "        return output\n",
    "    \n",
    "cnn = CNN()\n",
    "print(cnn)  # net architecture"
   ]
  },
  {
   "cell_type": "code",
   "execution_count": 162,
   "metadata": {},
   "outputs": [],
   "source": [
    "def pred_rate(preds,labels):\n",
    "    return preds.eq(labels).sum().item()/labels.shape[0]"
   ]
  },
  {
   "cell_type": "code",
   "execution_count": 163,
   "metadata": {},
   "outputs": [
    {
     "name": "stdout",
     "output_type": "stream",
     "text": [
      "Epoch:  0 | Step:  0 | loss:  2.2986645698547363 | prection rate:  0.22\n",
      "Epoch:  0 | Step:  50 | loss:  0.48384106159210205 | prection rate:  0.82\n",
      "Epoch:  0 | Step:  100 | loss:  0.3647906482219696 | prection rate:  0.88\n",
      "Epoch:  0 | Step:  150 | loss:  0.4928910732269287 | prection rate:  0.82\n",
      "Epoch:  0 | Step:  200 | loss:  0.2735483646392822 | prection rate:  0.88\n",
      "Epoch:  0 | Step:  250 | loss:  0.09300849586725235 | prection rate:  0.98\n",
      "Epoch:  0 | Step:  300 | loss:  0.38477760553359985 | prection rate:  0.88\n",
      "Epoch:  0 | Step:  350 | loss:  0.06717167049646378 | prection rate:  0.98\n",
      "Epoch:  0 | Step:  400 | loss:  0.25165218114852905 | prection rate:  0.96\n",
      "Epoch:  0 | Step:  450 | loss:  0.04228585213422775 | prection rate:  1.0\n",
      "Epoch:  0 | Step:  500 | loss:  0.017579160630702972 | prection rate:  1.0\n",
      "Epoch:  0 | Step:  550 | loss:  0.03588689863681793 | prection rate:  1.0\n",
      "Epoch:  0 | Step:  600 | loss:  0.04718918353319168 | prection rate:  0.98\n",
      "Epoch:  0 | Step:  650 | loss:  0.046961378306150436 | prection rate:  1.0\n",
      "Epoch:  0 | Step:  700 | loss:  0.24045297503471375 | prection rate:  0.9\n",
      "Epoch:  0 | Step:  750 | loss:  0.030214404687285423 | prection rate:  0.98\n",
      "Epoch:  0 | Step:  800 | loss:  0.11259310692548752 | prection rate:  0.98\n",
      "Epoch:  0 | Step:  850 | loss:  0.039586141705513 | prection rate:  0.98\n",
      "Epoch:  0 | Step:  900 | loss:  0.09110656380653381 | prection rate:  0.96\n",
      "Epoch:  0 | Step:  950 | loss:  0.0848468616604805 | prection rate:  0.96\n",
      "Epoch:  0 | Step:  1000 | loss:  0.09484142065048218 | prection rate:  0.98\n",
      "Epoch:  0 | Step:  1050 | loss:  0.018444035202264786 | prection rate:  1.0\n",
      "Epoch:  0 | Step:  1100 | loss:  0.08770149201154709 | prection rate:  0.96\n",
      "Epoch:  0 | Step:  1150 | loss:  0.012920188717544079 | prection rate:  1.0\n"
     ]
    }
   ],
   "source": [
    "device=torch.device(\"cuda\" if torch.cuda.is_available() else \"cpu\")    #如果可以，network使用GPU\n",
    "network=CNN().to(device)\n",
    "\n",
    "optimizer = torch.optim.Adam(network.parameters(), lr=LR)   # optimize all cnn parameters\n",
    "loss_func = nn.CrossEntropyLoss()   # the target label is not one-hotted\n",
    "\n",
    "for epoch in range(EPOCH):\n",
    "    for step,(batch_x,batch_y) in enumerate(train_loader):\n",
    "        batch_x,batch_y=batch_x.to(device),batch_y.to(device)     #如果可以，tensor放到gpu上\n",
    "        \n",
    "        out=network(batch_x)\n",
    "        loss=loss_func(out,batch_y)            \n",
    "        \n",
    "        optimizer.zero_grad()\n",
    "        loss.backward()                         #使用backpropogation算法计算grad\n",
    "        optimizer.step()    #表示将要用该optimizer，通过loss function的最小化来更新weights\n",
    "        \n",
    "        if step%50 == 0:\n",
    "            preds=out.argmax(dim=1)\n",
    "            print('Epoch: ', epoch, '| Step: ', step,'| loss: ',loss.item(), '| prection rate: ',pred_rate(preds,batch_y))\n",
    "        \n"
   ]
  },
  {
   "cell_type": "code",
   "execution_count": 165,
   "metadata": {},
   "outputs": [
    {
     "name": "stdout",
     "output_type": "stream",
     "text": [
      "By using the test set,the prediction rate is:  0.9829\n"
     ]
    }
   ],
   "source": [
    "test_data = torchvision.datasets.MNIST(               #这种加载形式有test_data.test_data和test_data.test_labels两个子函数\n",
    "    root='./data1/MNIST/',    # 保存或者提取位置\n",
    "    train=False,  # this is testing data\n",
    "    download=True,\n",
    "    transform=torchvision.transforms.ToTensor(),    \n",
    ")\n",
    " \n",
    "test_loader = torch.utils.data.DataLoader(test_data)\n",
    "\n",
    "sum_correct=0\n",
    "for test_x,test_y in test_loader:               #test_loader里面要一个一个数据取，用for\n",
    "    test_x,test_y=test_x.to(device),test_y.to(device)           #转移到GPU\n",
    "    out=network(test_x)\n",
    "    pred=out.argmax(dim=1)\n",
    "    sum_correct+=(pred.cpu().data.numpy().item()==test_y.cpu().data.numpy().item()) #GPU tensor先变成CPU tensor，\n",
    "                                                                                    #再变成numpy数组，再变成数字\n",
    "my_rate=sum_correct/len(test_data)\n",
    "print('By using the test set,the prediction rate is: ',my_rate)"
   ]
  }
 ],
 "metadata": {
  "kernelspec": {
   "display_name": "Python [conda env:py37] *",
   "language": "python",
   "name": "conda-env-py37-py"
  },
  "language_info": {
   "codemirror_mode": {
    "name": "ipython",
    "version": 3
   },
   "file_extension": ".py",
   "mimetype": "text/x-python",
   "name": "python",
   "nbconvert_exporter": "python",
   "pygments_lexer": "ipython3",
   "version": "3.6.7"
  }
 },
 "nbformat": 4,
 "nbformat_minor": 2
}
