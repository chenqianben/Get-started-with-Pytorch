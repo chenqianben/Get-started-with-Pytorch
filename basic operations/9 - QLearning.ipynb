{
 "cells": [
  {
   "cell_type": "code",
   "execution_count": 2,
   "metadata": {},
   "outputs": [],
   "source": [
    "# Q - Learning example\n",
    "import numpy as np\n",
    "import random"
   ]
  },
  {
   "cell_type": "code",
   "execution_count": 9,
   "metadata": {},
   "outputs": [
    {
     "name": "stdout",
     "output_type": "stream",
     "text": [
      "initial r =  [[ -1  -1  -1  -1   0  -1]\n",
      " [ -1  -1  -1   0  -1 100]\n",
      " [ -1  -1  -1   0  -1  -1]\n",
      " [ -1   0   0  -1   0  -1]\n",
      " [  0  -1  -1   0  -1 100]\n",
      " [ -1   0  -1  -1   0 100]]\n",
      "initial q =  [[0. 0. 0. 0. 0. 0.]\n",
      " [0. 0. 0. 0. 0. 0.]\n",
      " [0. 0. 0. 0. 0. 0.]\n",
      " [0. 0. 0. 0. 0. 0.]\n",
      " [0. 0. 0. 0. 0. 0.]\n",
      " [0. 0. 0. 0. 0. 0.]]\n",
      "After recurrance, the final q is: \n",
      "[[  0.    0.    0.    0.   80.    0. ]\n",
      " [  0.    0.    0.   64.    0.  100. ]\n",
      " [  0.    0.    0.   64.    0.    0. ]\n",
      " [  0.   80.   51.2   0.   80.    0. ]\n",
      " [ 64.    0.    0.   64.    0.  100. ]\n",
      " [  0.    0.    0.    0.    0.    0. ]]\n",
      "\n",
      "the 1 time verifying\n",
      "the robot is in 1\n",
      "the robot goes to 5.\n",
      "\n",
      "the 2 time verifying\n",
      "the robot is in 5\n",
      "\n",
      "the 3 time verifying\n",
      "the robot is in 2\n",
      "the robot goes to 3.\n",
      "the robot goes to 1.\n",
      "the robot goes to 5.\n",
      "\n",
      "the 4 time verifying\n",
      "the robot is in 1\n",
      "the robot goes to 5.\n",
      "\n",
      "the 5 time verifying\n",
      "the robot is in 4\n",
      "the robot goes to 5.\n"
     ]
    }
   ],
   "source": [
    "# initialize r and q\n",
    "r = np.array([[-1, -1, -1, -1, 0, -1], [-1, -1, -1, 0, -1, 100], [-1, -1, -1, 0, -1, -1], [-1, 0, 0, -1, 0, -1],\n",
    "              [0, -1, -1, 0, -1, 100], [-1, 0, -1, -1, 0, 100]])\n",
    "print('initial r = ',r)\n",
    "\n",
    "q = np.zeros([6,6],dtype=np.float32)\n",
    "\n",
    "print('initial q = ',q)\n",
    "\n",
    "gamma = 0.8           # learning rate\n",
    "\n",
    "step = 0\n",
    "while step < 1000:\n",
    "    state = random.randint(0,5)         #choose the initial state randomly in (0 1 2 3 4 5)\n",
    "    if state != 5:\n",
    "        next_state_list=[]\n",
    "        for i in range(6):\n",
    "            if r[state,i] != -1:\n",
    "                next_state_list.append(i)\n",
    "        next_state = next_state_list[random.randint(0,len(next_state_list)-1)]  #randomly choose the next state and update the reward\n",
    "        qval = r[state,next_state] + gamma * max(q[next_state])\n",
    "        q[state,next_state] = qval\n",
    "    step += 1\n",
    "\n",
    "print('After recurrance, the final q is: ')\n",
    "print(q)\n",
    "\n",
    "# verification\n",
    "for i in range(5):\n",
    "    print()\n",
    "    print(\"the {} time verifying\".format(i + 1))\n",
    "    state = random.randint(0, 5)\n",
    "    print('the robot is in {}'.format(state))\n",
    "    count = 0\n",
    "    while state != 5:\n",
    "        if count > 10:\n",
    "            print('fail')\n",
    "            break\n",
    "        # choose the maximum q_max\n",
    "        q_max = q[state].max()\n",
    "\n",
    "        q_max_action = []\n",
    "        for action in range(6):\n",
    "            if q[state, action] == q_max:\n",
    "                q_max_action.append(action)\n",
    "\n",
    "        next_state = q_max_action[random.randint(0, len(q_max_action) - 1)]\n",
    "        print(\"the robot goes to \" + str(next_state) + '.')\n",
    "        state = next_state\n",
    "        count += 1"
   ]
  },
  {
   "cell_type": "code",
   "execution_count": null,
   "metadata": {},
   "outputs": [],
   "source": [
    "# DQL 待补充"
   ]
  },
  {
   "cell_type": "code",
   "execution_count": null,
   "metadata": {},
   "outputs": [],
   "source": []
  }
 ],
 "metadata": {
  "kernelspec": {
   "display_name": "Python [conda env:py37] *",
   "language": "python",
   "name": "conda-env-py37-py"
  },
  "language_info": {
   "codemirror_mode": {
    "name": "ipython",
    "version": 3
   },
   "file_extension": ".py",
   "mimetype": "text/x-python",
   "name": "python",
   "nbconvert_exporter": "python",
   "pygments_lexer": "ipython3",
   "version": "3.6.7"
  }
 },
 "nbformat": 4,
 "nbformat_minor": 2
}
